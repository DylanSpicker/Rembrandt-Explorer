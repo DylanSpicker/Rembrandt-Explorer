{
 "cells": [
  {
   "cell_type": "code",
   "execution_count": 4,
   "metadata": {
    "collapsed": true
   },
   "outputs": [],
   "source": [
    "import json as json\n",
    "from itertools import combinations"
   ]
  },
  {
   "cell_type": "code",
   "execution_count": 2,
   "metadata": {
    "collapsed": true
   },
   "outputs": [],
   "source": [
    "with open(\"json_corpus_1.json\", \"rb\") as file:\n",
    "    corpus_1 = json.loads(file.read())"
   ]
  },
  {
   "cell_type": "code",
   "execution_count": 3,
   "metadata": {
    "collapsed": true
   },
   "outputs": [],
   "source": [
    "nodes = []\n",
    "\n",
    "for entity in corpus_1['entities']:\n",
    "    nodes.append({\"name\": entity['text']})"
   ]
  },
  {
   "cell_type": "code",
   "execution_count": 10,
   "metadata": {},
   "outputs": [],
   "source": [
    "json_corpus = [\n",
    "    \"json_corpus_1.json\",\n",
    "    \"json_corpus_2.json\",\n",
    "    \"json_corpus_3.json\",\n",
    "    \"json_corpus_4.json\",\n",
    "    \"json_corpus_5.json\",\n",
    "    \"json_corpus_6.json\"]\n",
    "\n",
    "nodes = []\n",
    "links = {}\n",
    "\n",
    "for file in json_corpus:\n",
    "    with open(file, \"rb\") as content:\n",
    "        corpus = json.loads(content.read())\n",
    "        \n",
    "        for entity in corpus['entities']:\n",
    "            nodes.append({\"name\": entity['text']})\n",
    "        \n",
    "        for comb in combinations(corpus['entities'], 2):\n",
    "            if comb[0]['text'] not in links.keys():\n",
    "                links[comb[0]['text']] = {comb[1]['text']: 0}\n",
    "            elif comb[1]['text'] not in links[comb[0]['text']].keys():\n",
    "                links[comb[0]['text']][comb[1]['text']] = 0\n",
    "            links[comb[0]['text']][comb[1]['text']] += 1\n",
    "            "
   ]
  },
  {
   "cell_type": "code",
   "execution_count": 16,
   "metadata": {
    "scrolled": false
   },
   "outputs": [],
   "source": [
    "with open(\"json_output_links\", \"w\") as outfile:\n",
    "    outfile.write(json.dumps(links))"
   ]
  }
 ],
 "metadata": {
  "kernelspec": {
   "display_name": "Python 3",
   "language": "python",
   "name": "python3"
  },
  "language_info": {
   "codemirror_mode": {
    "name": "ipython",
    "version": 3
   },
   "file_extension": ".py",
   "mimetype": "text/x-python",
   "name": "python",
   "nbconvert_exporter": "python",
   "pygments_lexer": "ipython3",
   "version": "3.6.1"
  }
 },
 "nbformat": 4,
 "nbformat_minor": 2
}
