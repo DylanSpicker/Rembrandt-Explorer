{
 "cells": [
  {
   "cell_type": "code",
   "execution_count": 4,
   "metadata": {
    "collapsed": true
   },
   "outputs": [],
   "source": [
    "import json as json\n",
    "from itertools import combinations"
   ]
  },
  {
   "cell_type": "code",
   "execution_count": 2,
   "metadata": {
    "collapsed": true
   },
   "outputs": [],
   "source": [
    "with open(\"json_corpus_1.json\", \"rb\") as file:\n",
    "    corpus_1 = json.loads(file.read())"
   ]
  },
  {
   "cell_type": "code",
   "execution_count": 3,
   "metadata": {
    "collapsed": true
   },
   "outputs": [],
   "source": [
    "nodes = []\n",
    "\n",
    "for entity in corpus_1['entities']:\n",
    "    nodes.append({\"name\": entity['text']})"
   ]
  },
  {
   "cell_type": "code",
   "execution_count": 10,
   "metadata": {},
   "outputs": [],
   "source": [
    "json_corpus = [\n",
    "    \"json_corpus_1.json\",\n",
    "    \"json_corpus_2.json\",\n",
    "    \"json_corpus_3.json\",\n",
    "    \"json_corpus_4.json\",\n",
    "    \"json_corpus_5.json\",\n",
    "    \"json_corpus_6.json\"]\n",
    "\n",
    "nodes = []\n",
    "links = {}\n",
    "\n",
    "for file in json_corpus:\n",
    "    with open(file, \"rb\") as content:\n",
    "        corpus = json.loads(content.read())\n",
    "        \n",
    "        for entity in corpus['entities']:\n",
    "            nodes.append({\"name\": entity['text']})\n",
    "        \n",
    "        for comb in combinations(corpus['entities'], 2):\n",
    "            if comb[0]['text'] not in links.keys():\n",
    "                links[comb[0]['text']] = {comb[1]['text']: 0}\n",
    "            elif comb[1]['text'] not in links[comb[0]['text']].keys():\n",
    "                links[comb[0]['text']][comb[1]['text']] = 0\n",
    "            links[comb[0]['text']][comb[1]['text']] += 1\n",
    "            "
   ]
  },
  {
   "cell_type": "code",
   "execution_count": 14,
   "metadata": {
    "scrolled": false
   },
   "outputs": [
    {
     "ename": "TypeError",
     "evalue": "a bytes-like object is required, not 'dict'",
     "output_type": "error",
     "traceback": [
      "\u001b[1;31m---------------------------------------------------------------------------\u001b[0m",
      "\u001b[1;31mTypeError\u001b[0m                                 Traceback (most recent call last)",
      "\u001b[1;32m<ipython-input-14-3da9986179c9>\u001b[0m in \u001b[0;36m<module>\u001b[1;34m()\u001b[0m\n\u001b[0;32m      1\u001b[0m \u001b[1;32mwith\u001b[0m \u001b[0mopen\u001b[0m\u001b[1;33m(\u001b[0m\u001b[1;34m\"json_output_links\"\u001b[0m\u001b[1;33m,\u001b[0m \u001b[1;34m\"wb\"\u001b[0m\u001b[1;33m)\u001b[0m \u001b[1;32mas\u001b[0m \u001b[0moutfile\u001b[0m\u001b[1;33m:\u001b[0m\u001b[1;33m\u001b[0m\u001b[0m\n\u001b[1;32m----> 2\u001b[1;33m     \u001b[0moutfile\u001b[0m\u001b[1;33m.\u001b[0m\u001b[0mwrite\u001b[0m\u001b[1;33m(\u001b[0m\u001b[0mlinks\u001b[0m\u001b[1;33m)\u001b[0m\u001b[1;33m\u001b[0m\u001b[0m\n\u001b[0m",
      "\u001b[1;31mTypeError\u001b[0m: a bytes-like object is required, not 'dict'"
     ]
    }
   ],
   "source": [
    "with open(\"json_output_links\", \"w\") as outfile:\n",
    "    outfile.write(links)"
   ]
  }
 ],
 "metadata": {
  "kernelspec": {
   "display_name": "Python 3",
   "language": "python",
   "name": "python3"
  },
  "language_info": {
   "codemirror_mode": {
    "name": "ipython",
    "version": 3
   },
   "file_extension": ".py",
   "mimetype": "text/x-python",
   "name": "python",
   "nbconvert_exporter": "python",
   "pygments_lexer": "ipython3",
   "version": "3.6.1"
  }
 },
 "nbformat": 4,
 "nbformat_minor": 2
}
